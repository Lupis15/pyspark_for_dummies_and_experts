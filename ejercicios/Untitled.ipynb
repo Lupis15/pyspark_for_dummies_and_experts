{
 "cells": [
  {
   "cell_type": "code",
   "execution_count": 2,
   "id": "ab842456-ee2c-4ab7-9b9f-4b771398dea5",
   "metadata": {},
   "outputs": [],
   "source": [
    "from pyspark.sql import SparkSession\n",
    "from pyspark import RDD"
   ]
  },
  {
   "cell_type": "code",
   "execution_count": 3,
   "id": "0d8ffa06-ed5d-4f4e-984a-d468795b045d",
   "metadata": {},
   "outputs": [],
   "source": [
    "nombre_ejercicio = \"ejercicio_3\"\n",
    "spark = SparkSession.builder \\\n",
    "    .master(\"local[*]\") \\\n",
    "    .appName(nombre_ejercicio) \\\n",
    "    .getOrCreate()\n",
    "sc = spark.sparkContext"
   ]
  },
  {
   "cell_type": "code",
   "execution_count": 4,
   "id": "c3c70c03-7eb5-4d7c-933c-b9590d68ea8d",
   "metadata": {},
   "outputs": [],
   "source": [
    "from pyspark.context import SparkContext\n",
    "\n",
    "assert type(spark) == SparkSession\n",
    "assert spark.sparkContext.getConf().get(\"spark.master\") == \"local[*]\"\n",
    "assert spark.sparkContext.getConf().get(\"spark.app.name\") == \"ejercicio_3\"\n",
    "assert type(sc) == SparkContext"
   ]
  },
  {
   "cell_type": "code",
   "execution_count": 5,
   "id": "f7cc1804-7f66-45b7-9ea5-425b74d62c68",
   "metadata": {},
   "outputs": [],
   "source": [
    "data = sc.textFile(\"../resources/data/txt/green_eggs_and_ham.txt\")"
   ]
  },
  {
   "cell_type": "code",
   "execution_count": 6,
   "id": "033edf80-cbef-4acd-8574-edcdd8dad2e8",
   "metadata": {},
   "outputs": [],
   "source": [
    "assert type(data) == RDD\n",
    "assert data.count() == 103"
   ]
  },
  {
   "cell_type": "code",
   "execution_count": 7,
   "id": "75e1f435-8745-445e-9118-ef04cf06033d",
   "metadata": {},
   "outputs": [],
   "source": [
    "result: RDD = data.flatMap(lambda line: line.split()) \\\n",
    "                            .map(lambda word: (word.upper(), 1)) \\\n",
    "                            .reduceByKey(lambda x, y: x + y)"
   ]
  },
  {
   "cell_type": "code",
   "execution_count": 8,
   "id": "30cf8f8d-54a2-4ddc-a2c6-f1e90c6977d4",
   "metadata": {},
   "outputs": [
    {
     "data": {
      "text/plain": [
       "52"
      ]
     },
     "execution_count": 8,
     "metadata": {},
     "output_type": "execute_result"
    }
   ],
   "source": [
    "result.count()"
   ]
  },
  {
   "cell_type": "code",
   "execution_count": 9,
   "id": "eb6a8618-8cfa-4458-a89f-4500603d9a21",
   "metadata": {},
   "outputs": [],
   "source": [
    "assert result.count() == 52\n",
    "\n",
    "ordered_result = result.sortBy(lambda item: item[1], ascending=False, numPartitions=1).take(5)\n",
    "expected = [('I', 83), ('NOT', 82), ('THEM', 58), ('A', 56), ('LIKE', 44)]\n",
    "assert ordered_result == expected\n",
    "\n",
    "sam_values = result.filter(lambda item: item[0] == 'SAM').take(1)\n",
    "assert sam_values[0][1] == 19\n",
    "result.foreach(print)"
   ]
  },
  {
   "cell_type": "code",
   "execution_count": null,
   "id": "36859195-bc0c-4ca3-8a46-9ddf1f30df40",
   "metadata": {},
   "outputs": [],
   "source": []
  }
 ],
 "metadata": {
  "kernelspec": {
   "display_name": "Python 3 (ipykernel)",
   "language": "python",
   "name": "python3"
  },
  "language_info": {
   "codemirror_mode": {
    "name": "ipython",
    "version": 3
   },
   "file_extension": ".py",
   "mimetype": "text/x-python",
   "name": "python",
   "nbconvert_exporter": "python",
   "pygments_lexer": "ipython3",
   "version": "3.9.13"
  }
 },
 "nbformat": 4,
 "nbformat_minor": 5
}
