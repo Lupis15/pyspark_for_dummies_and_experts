{
 "cells": [
  {
   "cell_type": "code",
   "execution_count": 5,
   "id": "ce987b9a-38d9-40ff-90b6-d7ccf564dabf",
   "metadata": {},
   "outputs": [],
   "source": [
    "from pyspark.sql import SparkSession\n",
    "\n",
    "## Coloca tu nombre completo en la variable, después ejecuta\n",
    "nombre_completo = \"Guadalupe Rodríguez Cabrera\"\n",
    "\n",
    "spark = SparkSession.builder \\\n",
    "    .master(\"local[*]\") \\\n",
    "    .appName(nombre_completo) \\\n",
    "    .getOrCreate()"
   ]
  },
  {
   "cell_type": "markdown",
   "id": "b415593f-2f7b-43c9-ad27-9e45eb14d5c7",
   "metadata": {},
   "source": [
    "spark"
   ]
  },
  {
   "cell_type": "markdown",
   "id": "0a505be1-7c81-440d-b343-f6b8d8543808",
   "metadata": {},
   "source": [
    "![title](../resources/img/Ejercicio_01.jpg)"
   ]
  },
  {
   "cell_type": "code",
   "execution_count": null,
   "id": "6ff030c7-288e-407b-be62-505a17655827",
   "metadata": {},
   "outputs": [],
   "source": []
  }
 ],
 "metadata": {
  "kernelspec": {
   "display_name": "Python 3 (ipykernel)",
   "language": "python",
   "name": "python3"
  },
  "language_info": {
   "codemirror_mode": {
    "name": "ipython",
    "version": 3
   },
   "file_extension": ".py",
   "mimetype": "text/x-python",
   "name": "python",
   "nbconvert_exporter": "python",
   "pygments_lexer": "ipython3",
   "version": "3.9.13"
  }
 },
 "nbformat": 4,
 "nbformat_minor": 5
}
